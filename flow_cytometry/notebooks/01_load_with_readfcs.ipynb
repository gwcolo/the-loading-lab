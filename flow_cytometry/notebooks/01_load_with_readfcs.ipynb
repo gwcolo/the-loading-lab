{
 "cells": [
  {
   "cell_type": "markdown",
   "id": "804b995a",
   "metadata": {},
   "source": [
    "# 01_load_with_readfcs\n",
    "\n",
    "**01 — Loading Flow Cytometry Data with `readfcs`**\n",
    "\n",
    "In this demo we’ll use [`readfcs`](https://pypi.org/project/readfcs/) to load a flow cytometry (`.fcs`) file and do some very basic exploratory data analysis (EDA).\n",
    "\n",
    "***Why readfcs?**\n",
    "- It's super light-weight. \n",
    "- Good starting library to just grab something and get started.\n",
    "\n",
    "As always, the goal: **lower the barrier** so you can quickly get data into Python and make your first plots.  \n",
    "This is not meant to be a full analysis pipeline — just a sandbox to get started.\n"
   ]
  },
  {
   "cell_type": "markdown",
   "id": "aa96be82",
   "metadata": {},
   "source": [
    "## 1. Imports\n"
   ]
  },
  {
   "cell_type": "code",
   "execution_count": null,
   "id": "a9577929",
   "metadata": {},
   "outputs": [],
   "source": [
    "import readfcs\n",
    "import pandas as pd\n",
    "import numpy as np\n",
    "import matplotlib.pyplot as plt\n",
    "import os\n",
    "from pathlib import Path\n",
    "\n"
   ]
  },
  {
   "cell_type": "markdown",
   "id": "5cc0de61",
   "metadata": {},
   "source": [
    "## 2. Load an FCS file\n",
    "\n",
    "- `readfcs.read(path)` returns an **AnnData** (“Annotated Data”) object.  \n",
    "- We’ll convert it to a pandas `DataFrame` for easier inspection and plotting.  \n",
    "- Why do we need to convert it?\n",
    "    - FCS files store raw flow cytometry event data (measurements per cell: fluorescence intensities, scatter properties, etc.).\n",
    "    - To work with them, tools like FlowCore (R) or FlowKit (Python) parse the binary .fcs into a structured object.\n",
    "    - The ANNE object is a higher-level abstraction:\n",
    "        - It holds the raw measurement matrix (cells × channels).\n",
    "        - It carries metadata annotations (channel names, markers, sample IDs, etc.).\n",
    "        - It allows downstream analysis (gating, transformations, clustering) while keeping the data + annotations bound together.\n"
   ]
  },
  {
   "cell_type": "code",
   "execution_count": null,
   "id": "46d6b4e2",
   "metadata": {},
   "outputs": [],
   "source": [
    "\"\"\"\n",
    "Haven't decided...\n",
    "- which open source fcs files we want to use for the demo\n",
    "- how I want to cite them, etc. to give the authors credit\n",
    "- etc.\n",
    "so until I figure out the proper way to do that, I'll leave it ambiguous on the fcs files being used.\n",
    "\"\"\"\n",
    "\n",
    "data_dir = Path(\"../data/raw\")\n",
    "\n",
    "# Collect all .fcs files recursively\n",
    "fcs_files = [str(p) for p in data_dir.rglob(\"*.fcs\")]\n",
    "fcs_files"
   ]
  },
  {
   "cell_type": "code",
   "execution_count": null,
   "id": "69ea4810",
   "metadata": {},
   "outputs": [],
   "source": [
    "# Replace with the path to your .fcs file\n",
    "fcs_path = fcs_files[0]\n",
    "\n",
    "adata = readfcs.read(fcs_path)   # AnnData object\n",
    "df_fcs = pd.DataFrame(adata.X, columns=adata.var_names)\n",
    "df_log = np.arcsinh(df_fcs / 5)   # standard “asinh transform with cofactor 5”\n",
    "\n"
   ]
  },
  {
   "cell_type": "markdown",
   "id": "a588c889",
   "metadata": {},
   "source": [
    "## 3. What is AnnData?\n",
    "Basically...\n",
    "- Data\n",
    "- Metadata"
   ]
  },
  {
   "cell_type": "code",
   "execution_count": null,
   "id": "694e8bc1",
   "metadata": {},
   "outputs": [],
   "source": [
    "adata"
   ]
  },
  {
   "cell_type": "code",
   "execution_count": null,
   "id": "969d89ec",
   "metadata": {},
   "outputs": [],
   "source": [
    "adata[\"n\"]"
   ]
  },
  {
   "cell_type": "code",
   "execution_count": null,
   "id": "a722acac",
   "metadata": {},
   "outputs": [],
   "source": [
    "adata.to_df()"
   ]
  },
  {
   "cell_type": "code",
   "execution_count": null,
   "id": "a20ff453",
   "metadata": {},
   "outputs": [],
   "source": [
    "df_fcs.columns"
   ]
  },
  {
   "cell_type": "code",
   "execution_count": null,
   "id": "a99e40d0",
   "metadata": {},
   "outputs": [],
   "source": [
    "df_fcs.info()\n",
    "df_fcs.describe().T.head()\n"
   ]
  },
  {
   "cell_type": "code",
   "execution_count": null,
   "id": "6d914f18",
   "metadata": {},
   "outputs": [],
   "source": [
    "import matplotlib.pyplot as plt\n",
    "\n",
    "df_log['CD3'].hist(bins=100, figsize=(6,4))\n",
    "plt.title(\"CD3 intensity distribution\")\n",
    "plt.xlabel(\"asinh(intensity)\")\n",
    "plt.ylabel(\"Cell count\")\n",
    "plt.show()\n"
   ]
  },
  {
   "cell_type": "code",
   "execution_count": null,
   "id": "f068887d",
   "metadata": {},
   "outputs": [],
   "source": [
    "plt.figure(figsize=(6,6))\n",
    "plt.scatter(df_log['CD3'], df_log['CD19'], s=2, alpha=0.3)\n",
    "plt.xlabel(\"CD3 (T cells)\")\n",
    "plt.ylabel(\"CD19 (B cells)\")\n",
    "plt.title(\"CD3 vs CD19\")\n",
    "plt.show()\n"
   ]
  },
  {
   "cell_type": "code",
   "execution_count": null,
   "id": "3d85ce3c",
   "metadata": {},
   "outputs": [],
   "source": []
  }
 ],
 "metadata": {
  "kernelspec": {
   "display_name": "fcs-demo",
   "language": "python",
   "name": "python3"
  },
  "language_info": {
   "codemirror_mode": {
    "name": "ipython",
    "version": 3
   },
   "file_extension": ".py",
   "mimetype": "text/x-python",
   "name": "python",
   "nbconvert_exporter": "python",
   "pygments_lexer": "ipython3",
   "version": "3.11.13"
  }
 },
 "nbformat": 4,
 "nbformat_minor": 5
}
